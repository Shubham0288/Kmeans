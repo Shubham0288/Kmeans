{
 "cells": [
  {
   "cell_type": "code",
   "execution_count": 1,
   "id": "bf4259c6",
   "metadata": {},
   "outputs": [],
   "source": [
    "# Supervised learning :- predictive modeling , train and test(random sampling)\n",
    "# Unsupervised learning :- no target variable (no predictive modeling), no random sampling is needed\n",
    "#                       :- Kmeans , hiear clustering , PCA(Principal component analysis--> is no ml model --> used to redused diamension)\n",
    "#                       :- DBSCAN  AND t-SNE not in sylabus"
   ]
  },
  {
   "cell_type": "code",
   "execution_count": 2,
   "id": "4083451f",
   "metadata": {},
   "outputs": [],
   "source": [
    "# Whats need of any unsupervised model? \n",
    "# ex\n",
    "# Age     gender  salary range        shopping pattern  profession  no of time visits shopping    mo.no\n",
    "\n",
    "\n",
    "\n",
    "\n",
    "# its not possible to design a strategy for any individual customer -> why we make cluster ans is that\n",
    "# group the customers based on similarity and for each group u make a strategy --> cluster "
   ]
  },
  {
   "cell_type": "code",
   "execution_count": 3,
   "id": "9697418b",
   "metadata": {},
   "outputs": [],
   "source": [
    "# K-means :- unsupervised learning algorithm --> cluster are forms on base of similarity (by ecliudean distance)-- iterative model\n",
    "#     1)How k means works:- \n",
    "# ex ) \n",
    "#  Age :-   30 20 50 55 54 32 22 29 60 63 45 21 29 33 37 47 65 72 42 35 28 46 56 39\n",
    "# we have need to make atleast 2 cluster -->  \n",
    "# iterative model :- 1st iteration centroids are randomly assigned\n",
    "#                 :- in 2nd and 3 rd iteration centroid are calculated and set accordlingly mean of that cluster\n",
    "#                 :- after that some records come in cluster 1st and some 2nd and then repeate that process \n",
    "#                 :- after some time model has converged\n",
    "#                 :- in large dataset mean may not be 100% fixed \n",
    "#     2) how to find  k in kmeans --> k is number of cluster \n",
    "#     --> we find the mean and then take difference between record and mean and then square of it and do sum of that is the ssd\n",
    "#     --> graph of on x axis is k and on y axis ssd that graph is called elbow plot\n",
    "#     --> elbow used to find the value of k --> where is value stop decrease and make stable that is optimal value of k"
   ]
  },
  {
   "cell_type": "code",
   "execution_count": 4,
   "id": "8dadb19f",
   "metadata": {},
   "outputs": [],
   "source": [
    "import pandas as pd"
   ]
  },
  {
   "cell_type": "code",
   "execution_count": 5,
   "id": "a24c6b54",
   "metadata": {},
   "outputs": [],
   "source": [
    "sns=pd.read_csv(\"D:\\Imarticus Learning\\DATASETS\\snsdata.csv\")"
   ]
  },
  {
   "cell_type": "code",
   "execution_count": 6,
   "id": "71db20f8",
   "metadata": {},
   "outputs": [
    {
     "data": {
      "text/html": [
       "<div>\n",
       "<style scoped>\n",
       "    .dataframe tbody tr th:only-of-type {\n",
       "        vertical-align: middle;\n",
       "    }\n",
       "\n",
       "    .dataframe tbody tr th {\n",
       "        vertical-align: top;\n",
       "    }\n",
       "\n",
       "    .dataframe thead th {\n",
       "        text-align: right;\n",
       "    }\n",
       "</style>\n",
       "<table border=\"1\" class=\"dataframe\">\n",
       "  <thead>\n",
       "    <tr style=\"text-align: right;\">\n",
       "      <th></th>\n",
       "      <th>gradyear</th>\n",
       "      <th>gender</th>\n",
       "      <th>age</th>\n",
       "      <th>friends</th>\n",
       "      <th>basketball</th>\n",
       "      <th>football</th>\n",
       "      <th>soccer</th>\n",
       "      <th>softball</th>\n",
       "      <th>volleyball</th>\n",
       "      <th>swimming</th>\n",
       "      <th>...</th>\n",
       "      <th>blonde</th>\n",
       "      <th>mall</th>\n",
       "      <th>shopping</th>\n",
       "      <th>clothes</th>\n",
       "      <th>hollister</th>\n",
       "      <th>abercrombie</th>\n",
       "      <th>die</th>\n",
       "      <th>death</th>\n",
       "      <th>drunk</th>\n",
       "      <th>drugs</th>\n",
       "    </tr>\n",
       "  </thead>\n",
       "  <tbody>\n",
       "    <tr>\n",
       "      <th>0</th>\n",
       "      <td>2006</td>\n",
       "      <td>M</td>\n",
       "      <td>18.982</td>\n",
       "      <td>7</td>\n",
       "      <td>0</td>\n",
       "      <td>0</td>\n",
       "      <td>0</td>\n",
       "      <td>0</td>\n",
       "      <td>0</td>\n",
       "      <td>0</td>\n",
       "      <td>...</td>\n",
       "      <td>0</td>\n",
       "      <td>0</td>\n",
       "      <td>0</td>\n",
       "      <td>0</td>\n",
       "      <td>0</td>\n",
       "      <td>0</td>\n",
       "      <td>0</td>\n",
       "      <td>0</td>\n",
       "      <td>0</td>\n",
       "      <td>0</td>\n",
       "    </tr>\n",
       "    <tr>\n",
       "      <th>1</th>\n",
       "      <td>2006</td>\n",
       "      <td>F</td>\n",
       "      <td>18.801</td>\n",
       "      <td>0</td>\n",
       "      <td>0</td>\n",
       "      <td>1</td>\n",
       "      <td>0</td>\n",
       "      <td>0</td>\n",
       "      <td>0</td>\n",
       "      <td>0</td>\n",
       "      <td>...</td>\n",
       "      <td>0</td>\n",
       "      <td>1</td>\n",
       "      <td>0</td>\n",
       "      <td>0</td>\n",
       "      <td>0</td>\n",
       "      <td>0</td>\n",
       "      <td>0</td>\n",
       "      <td>0</td>\n",
       "      <td>0</td>\n",
       "      <td>0</td>\n",
       "    </tr>\n",
       "    <tr>\n",
       "      <th>2</th>\n",
       "      <td>2006</td>\n",
       "      <td>M</td>\n",
       "      <td>18.335</td>\n",
       "      <td>69</td>\n",
       "      <td>0</td>\n",
       "      <td>1</td>\n",
       "      <td>0</td>\n",
       "      <td>0</td>\n",
       "      <td>0</td>\n",
       "      <td>0</td>\n",
       "      <td>...</td>\n",
       "      <td>0</td>\n",
       "      <td>0</td>\n",
       "      <td>0</td>\n",
       "      <td>0</td>\n",
       "      <td>0</td>\n",
       "      <td>0</td>\n",
       "      <td>0</td>\n",
       "      <td>1</td>\n",
       "      <td>0</td>\n",
       "      <td>0</td>\n",
       "    </tr>\n",
       "    <tr>\n",
       "      <th>3</th>\n",
       "      <td>2006</td>\n",
       "      <td>F</td>\n",
       "      <td>18.875</td>\n",
       "      <td>0</td>\n",
       "      <td>0</td>\n",
       "      <td>0</td>\n",
       "      <td>0</td>\n",
       "      <td>0</td>\n",
       "      <td>0</td>\n",
       "      <td>0</td>\n",
       "      <td>...</td>\n",
       "      <td>0</td>\n",
       "      <td>0</td>\n",
       "      <td>0</td>\n",
       "      <td>0</td>\n",
       "      <td>0</td>\n",
       "      <td>0</td>\n",
       "      <td>0</td>\n",
       "      <td>0</td>\n",
       "      <td>0</td>\n",
       "      <td>0</td>\n",
       "    </tr>\n",
       "    <tr>\n",
       "      <th>4</th>\n",
       "      <td>2006</td>\n",
       "      <td>NaN</td>\n",
       "      <td>18.995</td>\n",
       "      <td>10</td>\n",
       "      <td>0</td>\n",
       "      <td>0</td>\n",
       "      <td>0</td>\n",
       "      <td>0</td>\n",
       "      <td>0</td>\n",
       "      <td>0</td>\n",
       "      <td>...</td>\n",
       "      <td>0</td>\n",
       "      <td>0</td>\n",
       "      <td>2</td>\n",
       "      <td>0</td>\n",
       "      <td>0</td>\n",
       "      <td>0</td>\n",
       "      <td>0</td>\n",
       "      <td>0</td>\n",
       "      <td>1</td>\n",
       "      <td>1</td>\n",
       "    </tr>\n",
       "  </tbody>\n",
       "</table>\n",
       "<p>5 rows × 40 columns</p>\n",
       "</div>"
      ],
      "text/plain": [
       "   gradyear gender     age  friends  basketball  football  soccer  softball  \\\n",
       "0      2006      M  18.982        7           0         0       0         0   \n",
       "1      2006      F  18.801        0           0         1       0         0   \n",
       "2      2006      M  18.335       69           0         1       0         0   \n",
       "3      2006      F  18.875        0           0         0       0         0   \n",
       "4      2006    NaN  18.995       10           0         0       0         0   \n",
       "\n",
       "   volleyball  swimming  ...  blonde  mall  shopping  clothes  hollister  \\\n",
       "0           0         0  ...       0     0         0        0          0   \n",
       "1           0         0  ...       0     1         0        0          0   \n",
       "2           0         0  ...       0     0         0        0          0   \n",
       "3           0         0  ...       0     0         0        0          0   \n",
       "4           0         0  ...       0     0         2        0          0   \n",
       "\n",
       "   abercrombie  die  death  drunk  drugs  \n",
       "0            0    0      0      0      0  \n",
       "1            0    0      0      0      0  \n",
       "2            0    0      1      0      0  \n",
       "3            0    0      0      0      0  \n",
       "4            0    0      0      1      1  \n",
       "\n",
       "[5 rows x 40 columns]"
      ]
     },
     "execution_count": 6,
     "metadata": {},
     "output_type": "execute_result"
    }
   ],
   "source": [
    "sns.head()"
   ]
  },
  {
   "cell_type": "code",
   "execution_count": 7,
   "id": "0eba3b0b",
   "metadata": {},
   "outputs": [
    {
     "data": {
      "text/plain": [
       "(30000, 40)"
      ]
     },
     "execution_count": 7,
     "metadata": {},
     "output_type": "execute_result"
    }
   ],
   "source": [
    "sns.shape"
   ]
  },
  {
   "cell_type": "code",
   "execution_count": 8,
   "id": "32212238",
   "metadata": {},
   "outputs": [
    {
     "data": {
      "text/plain": [
       "gradyear           0\n",
       "gender          2724\n",
       "age             5086\n",
       "friends            0\n",
       "basketball         0\n",
       "football           0\n",
       "soccer             0\n",
       "softball           0\n",
       "volleyball         0\n",
       "swimming           0\n",
       "cheerleading       0\n",
       "baseball           0\n",
       "tennis             0\n",
       "sports             0\n",
       "cute               0\n",
       "sex                0\n",
       "sexy               0\n",
       "hot                0\n",
       "kissed             0\n",
       "dance              0\n",
       "band               0\n",
       "marching           0\n",
       "music              0\n",
       "rock               0\n",
       "god                0\n",
       "church             0\n",
       "jesus              0\n",
       "bible              0\n",
       "hair               0\n",
       "dress              0\n",
       "blonde             0\n",
       "mall               0\n",
       "shopping           0\n",
       "clothes            0\n",
       "hollister          0\n",
       "abercrombie        0\n",
       "die                0\n",
       "death              0\n",
       "drunk              0\n",
       "drugs              0\n",
       "dtype: int64"
      ]
     },
     "execution_count": 8,
     "metadata": {},
     "output_type": "execute_result"
    }
   ],
   "source": [
    "sns.isnull().sum()"
   ]
  },
  {
   "cell_type": "code",
   "execution_count": 9,
   "id": "f3802be0",
   "metadata": {},
   "outputs": [
    {
     "data": {
      "text/plain": [
       "F    22054\n",
       "M     5222\n",
       "Name: gender, dtype: int64"
      ]
     },
     "execution_count": 9,
     "metadata": {},
     "output_type": "execute_result"
    }
   ],
   "source": [
    "sns.gender.value_counts()"
   ]
  },
  {
   "cell_type": "code",
   "execution_count": 10,
   "id": "54a7038d",
   "metadata": {},
   "outputs": [],
   "source": [
    "sns.gender.fillna('F',inplace=True)\n",
    "sns.age.fillna(sns.age.mean(),inplace=True)"
   ]
  },
  {
   "cell_type": "code",
   "execution_count": 11,
   "id": "a5da7d21",
   "metadata": {},
   "outputs": [],
   "source": [
    "sns.gender.replace({'M':0,'F':1},inplace = True)"
   ]
  },
  {
   "cell_type": "code",
   "execution_count": 50,
   "id": "54cb8390",
   "metadata": {},
   "outputs": [
    {
     "name": "stderr",
     "output_type": "stream",
     "text": [
      "C:\\ProgramData\\anaconda3\\lib\\site-packages\\sklearn\\cluster\\_kmeans.py:870: FutureWarning: The default value of `n_init` will change from 10 to 'auto' in 1.4. Set the value of `n_init` explicitly to suppress the warning\n",
      "  warnings.warn(\n"
     ]
    },
    {
     "data": {
      "text/html": [
       "<style>#sk-container-id-3 {color: black;background-color: white;}#sk-container-id-3 pre{padding: 0;}#sk-container-id-3 div.sk-toggleable {background-color: white;}#sk-container-id-3 label.sk-toggleable__label {cursor: pointer;display: block;width: 100%;margin-bottom: 0;padding: 0.3em;box-sizing: border-box;text-align: center;}#sk-container-id-3 label.sk-toggleable__label-arrow:before {content: \"▸\";float: left;margin-right: 0.25em;color: #696969;}#sk-container-id-3 label.sk-toggleable__label-arrow:hover:before {color: black;}#sk-container-id-3 div.sk-estimator:hover label.sk-toggleable__label-arrow:before {color: black;}#sk-container-id-3 div.sk-toggleable__content {max-height: 0;max-width: 0;overflow: hidden;text-align: left;background-color: #f0f8ff;}#sk-container-id-3 div.sk-toggleable__content pre {margin: 0.2em;color: black;border-radius: 0.25em;background-color: #f0f8ff;}#sk-container-id-3 input.sk-toggleable__control:checked~div.sk-toggleable__content {max-height: 200px;max-width: 100%;overflow: auto;}#sk-container-id-3 input.sk-toggleable__control:checked~label.sk-toggleable__label-arrow:before {content: \"▾\";}#sk-container-id-3 div.sk-estimator input.sk-toggleable__control:checked~label.sk-toggleable__label {background-color: #d4ebff;}#sk-container-id-3 div.sk-label input.sk-toggleable__control:checked~label.sk-toggleable__label {background-color: #d4ebff;}#sk-container-id-3 input.sk-hidden--visually {border: 0;clip: rect(1px 1px 1px 1px);clip: rect(1px, 1px, 1px, 1px);height: 1px;margin: -1px;overflow: hidden;padding: 0;position: absolute;width: 1px;}#sk-container-id-3 div.sk-estimator {font-family: monospace;background-color: #f0f8ff;border: 1px dotted black;border-radius: 0.25em;box-sizing: border-box;margin-bottom: 0.5em;}#sk-container-id-3 div.sk-estimator:hover {background-color: #d4ebff;}#sk-container-id-3 div.sk-parallel-item::after {content: \"\";width: 100%;border-bottom: 1px solid gray;flex-grow: 1;}#sk-container-id-3 div.sk-label:hover label.sk-toggleable__label {background-color: #d4ebff;}#sk-container-id-3 div.sk-serial::before {content: \"\";position: absolute;border-left: 1px solid gray;box-sizing: border-box;top: 0;bottom: 0;left: 50%;z-index: 0;}#sk-container-id-3 div.sk-serial {display: flex;flex-direction: column;align-items: center;background-color: white;padding-right: 0.2em;padding-left: 0.2em;position: relative;}#sk-container-id-3 div.sk-item {position: relative;z-index: 1;}#sk-container-id-3 div.sk-parallel {display: flex;align-items: stretch;justify-content: center;background-color: white;position: relative;}#sk-container-id-3 div.sk-item::before, #sk-container-id-3 div.sk-parallel-item::before {content: \"\";position: absolute;border-left: 1px solid gray;box-sizing: border-box;top: 0;bottom: 0;left: 50%;z-index: -1;}#sk-container-id-3 div.sk-parallel-item {display: flex;flex-direction: column;z-index: 1;position: relative;background-color: white;}#sk-container-id-3 div.sk-parallel-item:first-child::after {align-self: flex-end;width: 50%;}#sk-container-id-3 div.sk-parallel-item:last-child::after {align-self: flex-start;width: 50%;}#sk-container-id-3 div.sk-parallel-item:only-child::after {width: 0;}#sk-container-id-3 div.sk-dashed-wrapped {border: 1px dashed gray;margin: 0 0.4em 0.5em 0.4em;box-sizing: border-box;padding-bottom: 0.4em;background-color: white;}#sk-container-id-3 div.sk-label label {font-family: monospace;font-weight: bold;display: inline-block;line-height: 1.2em;}#sk-container-id-3 div.sk-label-container {text-align: center;}#sk-container-id-3 div.sk-container {/* jupyter's `normalize.less` sets `[hidden] { display: none; }` but bootstrap.min.css set `[hidden] { display: none !important; }` so we also need the `!important` here to be able to override the default hidden behavior on the sphinx rendered scikit-learn.org. See: https://github.com/scikit-learn/scikit-learn/issues/21755 */display: inline-block !important;position: relative;}#sk-container-id-3 div.sk-text-repr-fallback {display: none;}</style><div id=\"sk-container-id-3\" class=\"sk-top-container\"><div class=\"sk-text-repr-fallback\"><pre>KMeans(n_clusters=3)</pre><b>In a Jupyter environment, please rerun this cell to show the HTML representation or trust the notebook. <br />On GitHub, the HTML representation is unable to render, please try loading this page with nbviewer.org.</b></div><div class=\"sk-container\" hidden><div class=\"sk-item\"><div class=\"sk-estimator sk-toggleable\"><input class=\"sk-toggleable__control sk-hidden--visually\" id=\"sk-estimator-id-3\" type=\"checkbox\" checked><label for=\"sk-estimator-id-3\" class=\"sk-toggleable__label sk-toggleable__label-arrow\">KMeans</label><div class=\"sk-toggleable__content\"><pre>KMeans(n_clusters=3)</pre></div></div></div></div></div>"
      ],
      "text/plain": [
       "KMeans(n_clusters=3)"
      ]
     },
     "execution_count": 50,
     "metadata": {},
     "output_type": "execute_result"
    }
   ],
   "source": [
    "from sklearn.cluster import KMeans\n",
    "km_sns = KMeans(n_clusters=3) # by defualt cluster is 8\n",
    "km_sns.fit(sns) # model has been created"
   ]
  },
  {
   "cell_type": "code",
   "execution_count": 51,
   "id": "b912bd27",
   "metadata": {},
   "outputs": [
    {
     "data": {
      "text/plain": [
       "array([0, 1, 2])"
      ]
     },
     "execution_count": 51,
     "metadata": {},
     "output_type": "execute_result"
    }
   ],
   "source": [
    "import numpy as np\n",
    "np.unique(km_sns.labels_)"
   ]
  },
  {
   "cell_type": "code",
   "execution_count": 52,
   "id": "8ed1975e",
   "metadata": {},
   "outputs": [
    {
     "data": {
      "text/plain": [
       "1    19575\n",
       "0     8995\n",
       "2     1430\n",
       "dtype: int64"
      ]
     },
     "execution_count": 52,
     "metadata": {},
     "output_type": "execute_result"
    }
   ],
   "source": [
    "pd.Series(km_sns.labels_).value_counts()  # gives the count of records in each cluster"
   ]
  },
  {
   "cell_type": "code",
   "execution_count": 53,
   "id": "62d8b30e",
   "metadata": {},
   "outputs": [
    {
     "data": {
      "text/plain": [
       "array([[2.00757810e+03, 8.52473596e-01, 1.79057490e+01, 5.52937187e+01,\n",
       "        3.11284047e-01, 2.82934964e-01, 2.58143413e-01, 2.18343524e-01,\n",
       "        1.76209005e-01, 1.57531962e-01, 1.21845470e-01, 1.17065036e-01,\n",
       "        9.46081156e-02, 1.55864369e-01, 3.76097832e-01, 2.11006115e-01,\n",
       "        1.52751529e-01, 1.42190106e-01, 1.14063369e-01, 4.92829350e-01,\n",
       "        3.31295164e-01, 4.88048916e-02, 7.81767649e-01, 2.66147860e-01,\n",
       "        5.36075598e-01, 3.05058366e-01, 1.37409672e-01, 2.32351306e-02,\n",
       "        4.51695386e-01, 1.29405225e-01, 1.32962757e-01, 2.97943302e-01,\n",
       "        4.19344080e-01, 1.62201223e-01, 9.00500278e-02, 6.44802668e-02,\n",
       "        1.92440245e-01, 1.26959422e-01, 8.97165092e-02, 5.96998332e-02],\n",
       "       [2.00745098e+03, 8.07765006e-01, 1.80538039e+01, 1.05059004e+01,\n",
       "        2.38978289e-01, 2.35453384e-01, 2.04750958e-01, 1.28275862e-01,\n",
       "        1.23780332e-01, 1.22452107e-01, 9.27713921e-02, 9.72669221e-02,\n",
       "        8.34738186e-02, 1.32669221e-01, 2.87458493e-01, 2.07203065e-01,\n",
       "        1.32158365e-01, 1.14431673e-01, 9.67560664e-02, 3.84674330e-01,\n",
       "        2.85006386e-01, 3.65772669e-02, 7.14993614e-01, 2.32286079e-01,\n",
       "        4.20280971e-01, 2.13180077e-01, 9.77777778e-02, 1.99233716e-02,\n",
       "        4.00715198e-01, 9.87994891e-02, 8.05108557e-02, 2.26973180e-01,\n",
       "        3.12132822e-01, 1.40536398e-01, 5.59897829e-02, 4.15836526e-02,\n",
       "        1.78441890e-01, 1.06513410e-01, 8.48531290e-02, 6.16602810e-02],\n",
       "       [2.00767972e+03, 9.07692308e-01, 1.77294148e+01, 1.41513287e+02,\n",
       "        3.79020979e-01, 2.90209790e-01, 2.46853147e-01, 2.52447552e-01,\n",
       "        2.00000000e-01, 1.52447552e-01, 2.00699301e-01, 1.33566434e-01,\n",
       "        9.44055944e-02, 1.39860140e-01, 4.72727273e-01, 2.29370629e-01,\n",
       "        1.92307692e-01, 1.95104895e-01, 1.23076923e-01, 5.53846154e-01,\n",
       "        3.00000000e-01, 4.40559441e-02, 7.74125874e-01, 2.51048951e-01,\n",
       "        6.36363636e-01, 3.69230769e-01, 1.48251748e-01, 2.86713287e-02,\n",
       "        5.38461538e-01, 1.61538462e-01, 1.37062937e-01, 4.18181818e-01,\n",
       "        4.95104895e-01, 1.71328671e-01, 1.32867133e-01, 9.86013986e-02,\n",
       "        2.09090909e-01, 1.39860140e-01, 1.19580420e-01, 4.82517483e-02]])"
      ]
     },
     "execution_count": 53,
     "metadata": {},
     "output_type": "execute_result"
    }
   ],
   "source": [
    "km_sns.cluster_centers_  # gives the cluster center"
   ]
  },
  {
   "cell_type": "code",
   "execution_count": 54,
   "id": "b76e43bf",
   "metadata": {},
   "outputs": [],
   "source": [
    "# Each array over here represent 1 point "
   ]
  },
  {
   "cell_type": "code",
   "execution_count": 55,
   "id": "8f3964d4",
   "metadata": {},
   "outputs": [],
   "source": [
    "sns_centers= pd.DataFrame(km_sns.cluster_centers_)\n",
    "sns_centers.columns = sns.columns"
   ]
  },
  {
   "cell_type": "code",
   "execution_count": 56,
   "id": "54dc146c",
   "metadata": {},
   "outputs": [
    {
     "data": {
      "text/html": [
       "<div>\n",
       "<style scoped>\n",
       "    .dataframe tbody tr th:only-of-type {\n",
       "        vertical-align: middle;\n",
       "    }\n",
       "\n",
       "    .dataframe tbody tr th {\n",
       "        vertical-align: top;\n",
       "    }\n",
       "\n",
       "    .dataframe thead th {\n",
       "        text-align: right;\n",
       "    }\n",
       "</style>\n",
       "<table border=\"1\" class=\"dataframe\">\n",
       "  <thead>\n",
       "    <tr style=\"text-align: right;\">\n",
       "      <th></th>\n",
       "      <th>gradyear</th>\n",
       "      <th>gender</th>\n",
       "      <th>age</th>\n",
       "      <th>friends</th>\n",
       "      <th>basketball</th>\n",
       "      <th>football</th>\n",
       "      <th>soccer</th>\n",
       "      <th>softball</th>\n",
       "      <th>volleyball</th>\n",
       "      <th>swimming</th>\n",
       "      <th>...</th>\n",
       "      <th>blonde</th>\n",
       "      <th>mall</th>\n",
       "      <th>shopping</th>\n",
       "      <th>clothes</th>\n",
       "      <th>hollister</th>\n",
       "      <th>abercrombie</th>\n",
       "      <th>die</th>\n",
       "      <th>death</th>\n",
       "      <th>drunk</th>\n",
       "      <th>drugs</th>\n",
       "    </tr>\n",
       "  </thead>\n",
       "  <tbody>\n",
       "    <tr>\n",
       "      <th>0</th>\n",
       "      <td>2007.578099</td>\n",
       "      <td>0.852474</td>\n",
       "      <td>17.905749</td>\n",
       "      <td>55.293719</td>\n",
       "      <td>0.311284</td>\n",
       "      <td>0.282935</td>\n",
       "      <td>0.258143</td>\n",
       "      <td>0.218344</td>\n",
       "      <td>0.176209</td>\n",
       "      <td>0.157532</td>\n",
       "      <td>...</td>\n",
       "      <td>0.132963</td>\n",
       "      <td>0.297943</td>\n",
       "      <td>0.419344</td>\n",
       "      <td>0.162201</td>\n",
       "      <td>0.090050</td>\n",
       "      <td>0.064480</td>\n",
       "      <td>0.192440</td>\n",
       "      <td>0.126959</td>\n",
       "      <td>0.089717</td>\n",
       "      <td>0.059700</td>\n",
       "    </tr>\n",
       "    <tr>\n",
       "      <th>1</th>\n",
       "      <td>2007.450983</td>\n",
       "      <td>0.807765</td>\n",
       "      <td>18.053804</td>\n",
       "      <td>10.505900</td>\n",
       "      <td>0.238978</td>\n",
       "      <td>0.235453</td>\n",
       "      <td>0.204751</td>\n",
       "      <td>0.128276</td>\n",
       "      <td>0.123780</td>\n",
       "      <td>0.122452</td>\n",
       "      <td>...</td>\n",
       "      <td>0.080511</td>\n",
       "      <td>0.226973</td>\n",
       "      <td>0.312133</td>\n",
       "      <td>0.140536</td>\n",
       "      <td>0.055990</td>\n",
       "      <td>0.041584</td>\n",
       "      <td>0.178442</td>\n",
       "      <td>0.106513</td>\n",
       "      <td>0.084853</td>\n",
       "      <td>0.061660</td>\n",
       "    </tr>\n",
       "    <tr>\n",
       "      <th>2</th>\n",
       "      <td>2007.679720</td>\n",
       "      <td>0.907692</td>\n",
       "      <td>17.729415</td>\n",
       "      <td>141.513287</td>\n",
       "      <td>0.379021</td>\n",
       "      <td>0.290210</td>\n",
       "      <td>0.246853</td>\n",
       "      <td>0.252448</td>\n",
       "      <td>0.200000</td>\n",
       "      <td>0.152448</td>\n",
       "      <td>...</td>\n",
       "      <td>0.137063</td>\n",
       "      <td>0.418182</td>\n",
       "      <td>0.495105</td>\n",
       "      <td>0.171329</td>\n",
       "      <td>0.132867</td>\n",
       "      <td>0.098601</td>\n",
       "      <td>0.209091</td>\n",
       "      <td>0.139860</td>\n",
       "      <td>0.119580</td>\n",
       "      <td>0.048252</td>\n",
       "    </tr>\n",
       "  </tbody>\n",
       "</table>\n",
       "<p>3 rows × 40 columns</p>\n",
       "</div>"
      ],
      "text/plain": [
       "      gradyear    gender        age     friends  basketball  football  \\\n",
       "0  2007.578099  0.852474  17.905749   55.293719    0.311284  0.282935   \n",
       "1  2007.450983  0.807765  18.053804   10.505900    0.238978  0.235453   \n",
       "2  2007.679720  0.907692  17.729415  141.513287    0.379021  0.290210   \n",
       "\n",
       "     soccer  softball  volleyball  swimming  ...    blonde      mall  \\\n",
       "0  0.258143  0.218344    0.176209  0.157532  ...  0.132963  0.297943   \n",
       "1  0.204751  0.128276    0.123780  0.122452  ...  0.080511  0.226973   \n",
       "2  0.246853  0.252448    0.200000  0.152448  ...  0.137063  0.418182   \n",
       "\n",
       "   shopping   clothes  hollister  abercrombie       die     death     drunk  \\\n",
       "0  0.419344  0.162201   0.090050     0.064480  0.192440  0.126959  0.089717   \n",
       "1  0.312133  0.140536   0.055990     0.041584  0.178442  0.106513  0.084853   \n",
       "2  0.495105  0.171329   0.132867     0.098601  0.209091  0.139860  0.119580   \n",
       "\n",
       "      drugs  \n",
       "0  0.059700  \n",
       "1  0.061660  \n",
       "2  0.048252  \n",
       "\n",
       "[3 rows x 40 columns]"
      ]
     },
     "execution_count": 56,
     "metadata": {},
     "output_type": "execute_result"
    }
   ],
   "source": [
    "sns_centers"
   ]
  },
  {
   "cell_type": "code",
   "execution_count": 57,
   "id": "b5ab3b9d",
   "metadata": {},
   "outputs": [
    {
     "data": {
      "text/plain": [
       "-11298600.067657596"
      ]
     },
     "execution_count": 57,
     "metadata": {},
     "output_type": "execute_result"
    }
   ],
   "source": [
    "# find the value of k ?  --> Eblow plot \n",
    "km_sns.score(sns)"
   ]
  },
  {
   "cell_type": "code",
   "execution_count": 58,
   "id": "8baa651c",
   "metadata": {},
   "outputs": [
    {
     "name": "stderr",
     "output_type": "stream",
     "text": [
      "C:\\ProgramData\\anaconda3\\lib\\site-packages\\sklearn\\cluster\\_kmeans.py:870: FutureWarning: The default value of `n_init` will change from 10 to 'auto' in 1.4. Set the value of `n_init` explicitly to suppress the warning\n",
      "  warnings.warn(\n"
     ]
    },
    {
     "name": "stdout",
     "output_type": "stream",
     "text": [
      "1\n"
     ]
    },
    {
     "name": "stderr",
     "output_type": "stream",
     "text": [
      "C:\\ProgramData\\anaconda3\\lib\\site-packages\\sklearn\\cluster\\_kmeans.py:870: FutureWarning: The default value of `n_init` will change from 10 to 'auto' in 1.4. Set the value of `n_init` explicitly to suppress the warning\n",
      "  warnings.warn(\n"
     ]
    },
    {
     "name": "stdout",
     "output_type": "stream",
     "text": [
      "2\n"
     ]
    },
    {
     "name": "stderr",
     "output_type": "stream",
     "text": [
      "C:\\ProgramData\\anaconda3\\lib\\site-packages\\sklearn\\cluster\\_kmeans.py:870: FutureWarning: The default value of `n_init` will change from 10 to 'auto' in 1.4. Set the value of `n_init` explicitly to suppress the warning\n",
      "  warnings.warn(\n"
     ]
    },
    {
     "name": "stdout",
     "output_type": "stream",
     "text": [
      "3\n"
     ]
    },
    {
     "name": "stderr",
     "output_type": "stream",
     "text": [
      "C:\\ProgramData\\anaconda3\\lib\\site-packages\\sklearn\\cluster\\_kmeans.py:870: FutureWarning: The default value of `n_init` will change from 10 to 'auto' in 1.4. Set the value of `n_init` explicitly to suppress the warning\n",
      "  warnings.warn(\n"
     ]
    },
    {
     "name": "stdout",
     "output_type": "stream",
     "text": [
      "4\n"
     ]
    },
    {
     "name": "stderr",
     "output_type": "stream",
     "text": [
      "C:\\ProgramData\\anaconda3\\lib\\site-packages\\sklearn\\cluster\\_kmeans.py:870: FutureWarning: The default value of `n_init` will change from 10 to 'auto' in 1.4. Set the value of `n_init` explicitly to suppress the warning\n",
      "  warnings.warn(\n"
     ]
    },
    {
     "name": "stdout",
     "output_type": "stream",
     "text": [
      "5\n"
     ]
    },
    {
     "name": "stderr",
     "output_type": "stream",
     "text": [
      "C:\\ProgramData\\anaconda3\\lib\\site-packages\\sklearn\\cluster\\_kmeans.py:870: FutureWarning: The default value of `n_init` will change from 10 to 'auto' in 1.4. Set the value of `n_init` explicitly to suppress the warning\n",
      "  warnings.warn(\n"
     ]
    },
    {
     "name": "stdout",
     "output_type": "stream",
     "text": [
      "6\n"
     ]
    },
    {
     "name": "stderr",
     "output_type": "stream",
     "text": [
      "C:\\ProgramData\\anaconda3\\lib\\site-packages\\sklearn\\cluster\\_kmeans.py:870: FutureWarning: The default value of `n_init` will change from 10 to 'auto' in 1.4. Set the value of `n_init` explicitly to suppress the warning\n",
      "  warnings.warn(\n"
     ]
    },
    {
     "name": "stdout",
     "output_type": "stream",
     "text": [
      "7\n"
     ]
    },
    {
     "name": "stderr",
     "output_type": "stream",
     "text": [
      "C:\\ProgramData\\anaconda3\\lib\\site-packages\\sklearn\\cluster\\_kmeans.py:870: FutureWarning: The default value of `n_init` will change from 10 to 'auto' in 1.4. Set the value of `n_init` explicitly to suppress the warning\n",
      "  warnings.warn(\n"
     ]
    },
    {
     "name": "stdout",
     "output_type": "stream",
     "text": [
      "8\n"
     ]
    },
    {
     "name": "stderr",
     "output_type": "stream",
     "text": [
      "C:\\ProgramData\\anaconda3\\lib\\site-packages\\sklearn\\cluster\\_kmeans.py:870: FutureWarning: The default value of `n_init` will change from 10 to 'auto' in 1.4. Set the value of `n_init` explicitly to suppress the warning\n",
      "  warnings.warn(\n"
     ]
    },
    {
     "name": "stdout",
     "output_type": "stream",
     "text": [
      "9\n"
     ]
    },
    {
     "name": "stderr",
     "output_type": "stream",
     "text": [
      "C:\\ProgramData\\anaconda3\\lib\\site-packages\\sklearn\\cluster\\_kmeans.py:870: FutureWarning: The default value of `n_init` will change from 10 to 'auto' in 1.4. Set the value of `n_init` explicitly to suppress the warning\n",
      "  warnings.warn(\n"
     ]
    },
    {
     "name": "stdout",
     "output_type": "stream",
     "text": [
      "10\n"
     ]
    }
   ],
   "source": [
    "ssd_list=[]\n",
    "for k in range(1,11):\n",
    "    km_sns = KMeans(n_clusters=k) # by defualt cluster is 8\n",
    "    km_sns.fit(sns)\n",
    "    ssd_list.append(np.abs(km_sns.score(sns)))\n",
    "    print(k)"
   ]
  },
  {
   "cell_type": "code",
   "execution_count": 59,
   "id": "29520977",
   "metadata": {},
   "outputs": [
    {
     "data": {
      "text/plain": [
       "[42274974.92283419,\n",
       " 18611355.303126708,\n",
       " 11294903.63787589,\n",
       " 8111437.0130946,\n",
       " 6334531.664315582,\n",
       " 5075063.748063731,\n",
       " 4021803.065917587,\n",
       " 3101556.51816033,\n",
       " 2564789.8618633496,\n",
       " 2219462.9475633893]"
      ]
     },
     "execution_count": 59,
     "metadata": {},
     "output_type": "execute_result"
    }
   ],
   "source": [
    "ssd_list"
   ]
  },
  {
   "cell_type": "code",
   "execution_count": 60,
   "id": "fcb34ee6",
   "metadata": {},
   "outputs": [
    {
     "data": {
      "text/plain": [
       "[1, 2, 3, 4, 5, 6, 7, 8, 9, 10]"
      ]
     },
     "execution_count": 60,
     "metadata": {},
     "output_type": "execute_result"
    }
   ],
   "source": [
    "cluster =  list(range(1,11))\n",
    "cluster"
   ]
  },
  {
   "cell_type": "code",
   "execution_count": 61,
   "id": "1dc03de8",
   "metadata": {},
   "outputs": [],
   "source": [
    "import matplotlib.pyplot as plt"
   ]
  },
  {
   "cell_type": "code",
   "execution_count": 62,
   "id": "3ef44617",
   "metadata": {},
   "outputs": [
    {
     "data": {
      "image/png": "[encoded data removed]",
      "text/plain": [
       "<Figure size 640x480 with 1 Axes>"
      ]
     },
     "metadata": {},
     "output_type": "display_data"
    }
   ],
   "source": [
    "plt.plot(cluster,ssd_list,marker=\"*\")\n",
    "plt.grid()"
   ]
  },
  {
   "cell_type": "code",
   "execution_count": 63,
   "id": "91e7184d",
   "metadata": {},
   "outputs": [],
   "source": [
    "# some part is remaining here \n",
    "from sklearn.metrics import silhouette_samples, silhouette_score\n",
    "from sklearn.cluster import KMeans"
   ]
  },
  {
   "cell_type": "code",
   "execution_count": 64,
   "id": "47be9573",
   "metadata": {
    "scrolled": true
   },
   "outputs": [
    {
     "name": "stderr",
     "output_type": "stream",
     "text": [
      "C:\\ProgramData\\anaconda3\\lib\\site-packages\\sklearn\\cluster\\_kmeans.py:870: FutureWarning: The default value of `n_init` will change from 10 to 'auto' in 1.4. Set the value of `n_init` explicitly to suppress the warning\n",
      "  warnings.warn(\n"
     ]
    }
   ],
   "source": [
    "y_predict = km_sns.fit_predict(sns)\n",
    "centroids = km_sns.cluster_centers_\n",
    "silhouette_vals = silhouette_samples(sns,y_predict)"
   ]
  },
  {
   "cell_type": "code",
   "execution_count": 65,
   "id": "882e6fd1",
   "metadata": {},
   "outputs": [
    {
     "data": {
      "text/plain": [
       "array([0.45142826, 0.54151523, 0.0255818 , ..., 0.69357083, 0.70562986,\n",
       "       0.64109557])"
      ]
     },
     "execution_count": 65,
     "metadata": {},
     "output_type": "execute_result"
    }
   ],
   "source": [
    "#sil score for each record\n",
    "silhouette_vals"
   ]
  },
  {
   "cell_type": "code",
   "execution_count": 66,
   "id": "0b3cc8e5",
   "metadata": {},
   "outputs": [
    {
     "data": {
      "text/plain": [
       "array([-0.00836802, -0.00305631, -0.00286332, -0.07264438])"
      ]
     },
     "execution_count": 66,
     "metadata": {},
     "output_type": "execute_result"
    }
   ],
   "source": [
    "silhouette_vals[silhouette_vals<0]"
   ]
  },
  {
   "cell_type": "code",
   "execution_count": 67,
   "id": "fd065536",
   "metadata": {},
   "outputs": [
    {
     "data": {
      "text/plain": [
       "4"
      ]
     },
     "execution_count": 67,
     "metadata": {},
     "output_type": "execute_result"
    }
   ],
   "source": [
    "len(silhouette_vals[silhouette_vals<0])"
   ]
  },
  {
   "cell_type": "code",
   "execution_count": null,
   "id": "133b9593",
   "metadata": {},
   "outputs": [],
   "source": []
  },
  {
   "cell_type": "code",
   "execution_count": null,
   "id": "62fdb48c",
   "metadata": {},
   "outputs": [],
   "source": []
  }
 ],
 "metadata": {
  "kernelspec": {
   "display_name": "Python 3 (ipykernel)",
   "language": "python",
   "name": "python3"
  },
  "language_info": {
   "codemirror_mode": {
    "name": "ipython",
    "version": 3
   },
   "file_extension": ".py",
   "mimetype": "text/x-python",
   "name": "python",
   "nbconvert_exporter": "python",
   "pygments_lexer": "ipython3",
   "version": "3.10.9"
  }
 },
 "nbformat": 4,
 "nbformat_minor": 5
}
